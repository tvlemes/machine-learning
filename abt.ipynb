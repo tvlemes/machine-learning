{
  "nbformat": 4,
  "nbformat_minor": 0,
  "metadata": {
    "colab": {
      "name": "abt.ipynb",
      "provenance": [],
      "collapsed_sections": []
    },
    "kernelspec": {
      "name": "python3",
      "display_name": "Python 3"
    },
    "language_info": {
      "name": "python"
    }
  },
  "cells": [
    {
      "cell_type": "markdown",
      "source": [
        "## Inicializando o Dataset\n",
        "\n",
        "Autor: *Thiago Vilarinho Lemes*\n",
        "\n",
        "Data: *13/08/2022*\n",
        "\n",
        "[![NPM](https://img.shields.io/github/license/tvlemes/machine-learning)](https://github.com/tvlemes/machine-learning/blob/main/license)"
      ],
      "metadata": {
        "id": "3W-VbdVxerZQ"
      }
    },
    {
      "cell_type": "code",
      "execution_count": null,
      "metadata": {
        "id": "ZPzlFSyuqqBE",
        "colab": {
          "base_uri": "https://localhost:8080/"
        },
        "outputId": "15c901ae-0abd-4da3-88e7-70e2678d7c02"
      },
      "outputs": [
        {
          "output_type": "stream",
          "name": "stdout",
          "text": [
            "Drive already mounted at /content/drive; to attempt to forcibly remount, call drive.mount(\"/content/drive\", force_remount=True).\n"
          ]
        }
      ],
      "source": [
        "from google.colab import drive\n",
        "drive.mount('/content/drive')"
      ]
    },
    {
      "cell_type": "code",
      "source": [
        "import os\n",
        "import numpy as np\n",
        "import pandas as pd\n",
        "from datetime import date\n",
        "import numpy as np"
      ],
      "metadata": {
        "id": "cNFup7pLe3c0"
      },
      "execution_count": null,
      "outputs": []
    },
    {
      "cell_type": "code",
      "source": [
        "WORK_DIR = 'path_dataset'\n",
        "DATA_DIR = os.path.join(WORK_DIR, 'ifood')"
      ],
      "metadata": {
        "id": "RRcMwr-6fHhZ"
      },
      "execution_count": null,
      "outputs": []
    },
    {
      "cell_type": "code",
      "source": [
        "df_orders = pd.read_csv(os.path.join(DATA_DIR, 'orders.csv'))"
      ],
      "metadata": {
        "id": "DD-x3XrVe7v-"
      },
      "execution_count": null,
      "outputs": []
    },
    {
      "cell_type": "markdown",
      "source": [
        "## Criando as Features e Target "
      ],
      "metadata": {
        "id": "U9Ep9pPRfQB5"
      }
    },
    {
      "cell_type": "code",
      "source": [
        "# Criando o Dataframe df_features_train 2019-06-01 (inclusivo) até 2019-07-01 (exclusivo)\n",
        "df_features_train = df_orders.query(\"order_timestamp_local >= '2019-06-01' & order_timestamp_local < '2019-07-01'\")"
      ],
      "metadata": {
        "id": "3LIeiQ8ufKxi"
      },
      "execution_count": null,
      "outputs": []
    },
    {
      "cell_type": "code",
      "source": [
        "# Verificando o tamanho do Dataframe df_features_train\n",
        "df_features_train.shape"
      ],
      "metadata": {
        "colab": {
          "base_uri": "https://localhost:8080/"
        },
        "id": "2K9BkQSB0O-L",
        "outputId": "2719bcf1-23a3-4de1-8087-986d7590774f"
      },
      "execution_count": null,
      "outputs": [
        {
          "output_type": "execute_result",
          "data": {
            "text/plain": [
              "(88451, 43)"
            ]
          },
          "metadata": {},
          "execution_count": 45
        }
      ]
    },
    {
      "cell_type": "code",
      "source": [
        "# Criando o Dataframe df_target_train 2019-07-01 (inclusivo) até 2019-08-01 (exclusivo)\n",
        "df_target_train = (\n",
        "  df_orders\n",
        "    # Selecionando o periodo de  2019-07-01 (inclusivo) até 2019-08-01 (exclusivo)\n",
        "    .query(\"order_timestamp_local >= '2019-07-01' & order_timestamp_local < '2019-08-01'\")\n",
        "    # Selecionando somente a features customer_id, que será a target\n",
        "    .filter(['customer_id'])\n",
        "    # Apagando as features duplicadas\n",
        "    .drop_duplicates()\n",
        ")"
      ],
      "metadata": {
        "id": "Mz2i1h5If-mx"
      },
      "execution_count": null,
      "outputs": []
    },
    {
      "cell_type": "code",
      "source": [
        "# Verificando o tamanho do Dataframe df_abt_train\n",
        "df_target_train.shape"
      ],
      "metadata": {
        "colab": {
          "base_uri": "https://localhost:8080/"
        },
        "id": "FwiFo-3r0JXv",
        "outputId": "e5130bc0-4911-46c7-c13c-32d10156746d"
      },
      "execution_count": null,
      "outputs": [
        {
          "output_type": "execute_result",
          "data": {
            "text/plain": [
              "(18441, 1)"
            ]
          },
          "metadata": {},
          "execution_count": 47
        }
      ]
    },
    {
      "cell_type": "code",
      "source": [
        "# Verificando a lista de features\n",
        "df_target_train.columns.to_list()"
      ],
      "metadata": {
        "colab": {
          "base_uri": "https://localhost:8080/"
        },
        "id": "_zNGTJRk0EuJ",
        "outputId": "a646d4f4-e54c-4473-c2c8-3665e8b0f612"
      },
      "execution_count": null,
      "outputs": [
        {
          "output_type": "execute_result",
          "data": {
            "text/plain": [
              "['customer_id']"
            ]
          },
          "metadata": {},
          "execution_count": 48
        }
      ]
    },
    {
      "cell_type": "markdown",
      "source": [
        "## Criando ABT Train"
      ],
      "metadata": {
        "id": "ntNSkT0Widwp"
      }
    },
    {
      "cell_type": "code",
      "source": [
        "# Criando o Dataframe df_abt_train\n",
        "df_abt_train = (\n",
        "    df_features_train\n",
        "    # Agrupando por customer_id, unindo as features com o mesmo valor\n",
        "    .groupby('customer_id')\n",
        "    # Criando as features fazendo a somatória das mesmas, somando os valores\n",
        "    .agg(\n",
        "      # Criando a feature receita_1m\n",
        "      receita_1m=('paid_amount', 'sum'),\n",
        "      # Criando a feature qtd_pedidos_1m\n",
        "      qtd_pedidos_1m=('order_id', 'nunique'),\n",
        "      # Criando a feature data_ultima_venda\n",
        "      data_ultima_venda=('order_timestamp_local', 'max')\n",
        "    )\n",
        "    # Resetando o index\n",
        "    .reset_index()\n",
        ")"
      ],
      "metadata": {
        "id": "korFsre2AERo"
      },
      "execution_count": null,
      "outputs": []
    },
    {
      "cell_type": "code",
      "source": [
        "# Verificando o tamanho do Dataframe df_abt_train\n",
        "df_abt_train.shape"
      ],
      "metadata": {
        "colab": {
          "base_uri": "https://localhost:8080/"
        },
        "id": "9ifzkZIzxjip",
        "outputId": "fb1bd37e-e94b-4d16-a2c3-4c8485999a08"
      },
      "execution_count": null,
      "outputs": [
        {
          "output_type": "execute_result",
          "data": {
            "text/plain": [
              "(30079, 4)"
            ]
          },
          "metadata": {},
          "execution_count": 50
        }
      ]
    },
    {
      "cell_type": "code",
      "source": [
        "# Verificando a lista de colunas\n",
        "df_abt_train.columns.to_list()"
      ],
      "metadata": {
        "colab": {
          "base_uri": "https://localhost:8080/"
        },
        "id": "6Y2yUse6zdiY",
        "outputId": "4f299ca6-5c18-468e-8a7f-33fa62abd9ce"
      },
      "execution_count": null,
      "outputs": [
        {
          "output_type": "execute_result",
          "data": {
            "text/plain": [
              "['customer_id', 'receita_1m', 'qtd_pedidos_1m', 'data_ultima_venda']"
            ]
          },
          "metadata": {},
          "execution_count": 51
        }
      ]
    },
    {
      "cell_type": "code",
      "source": [
        "# Alerando o Dataframe df_abt_train\n",
        "df_abt_train = (\n",
        "    df_abt_train\n",
        "      # Alterando a feature data_ultima_venda para o tipo datetime\n",
        "      .assign(data_ultima_venda = pd.to_datetime(df_abt_train['data_ultima_venda'], utc=True))\n",
        "      # Alterando a feature data_ref para o tipo datetime\n",
        "      .assign(data_ref = pd.to_datetime('2019-07-01', utc=True))\n",
        "      # Criando a feature recencia da subtração entre as features df['data_ref'] - df['data_ultima_venda'], df é só um nome simbólico\n",
        "      .assign(recencia = lambda df: (df['data_ref'] - df['data_ultima_venda']).dt.days)\n",
        "      # Filtrando as features para o Dataframe\n",
        "      .filter([\n",
        "          'data_ref', \n",
        "          'customer_id', \n",
        "          'receita_1m', \n",
        "          'qtd_pedidos_1m', \n",
        "          'recencia'])\n",
        ")"
      ],
      "metadata": {
        "id": "mz7mJ4dShjMT"
      },
      "execution_count": null,
      "outputs": []
    },
    {
      "cell_type": "code",
      "source": [
        "# Verificando o tamanho do Dataframe df_abt_train\n",
        "df_abt_train.shape"
      ],
      "metadata": {
        "colab": {
          "base_uri": "https://localhost:8080/"
        },
        "id": "qupaCL2Zzalw",
        "outputId": "19d0701e-00ae-475f-ed60-6fb4296f2239"
      },
      "execution_count": null,
      "outputs": [
        {
          "output_type": "execute_result",
          "data": {
            "text/plain": [
              "(30079, 5)"
            ]
          },
          "metadata": {},
          "execution_count": 53
        }
      ]
    },
    {
      "cell_type": "code",
      "source": [
        "# Verificando a lista de colunas\n",
        "df_abt_train.columns.to_list()"
      ],
      "metadata": {
        "colab": {
          "base_uri": "https://localhost:8080/"
        },
        "id": "nVugI8aOz04P",
        "outputId": "bcd87638-9bd4-4d05-d708-afb3ba7ed5c0"
      },
      "execution_count": null,
      "outputs": [
        {
          "output_type": "execute_result",
          "data": {
            "text/plain": [
              "['data_ref', 'customer_id', 'receita_1m', 'qtd_pedidos_1m', 'recencia']"
            ]
          },
          "metadata": {},
          "execution_count": 54
        }
      ]
    },
    {
      "cell_type": "code",
      "source": [
        "# Fazendo o merge entre os Dataframes df_abt_train e o df_target_train\n",
        "df_abt_train = (\n",
        "    df_abt_train\n",
        "    # Unindo os Dataframes df_abt_train e df_target_train que contenham a feature customer_id em comum\n",
        "    # criando a feature _merge, que por sua vez irá conter left_only e only\n",
        "    .merge(df_target_train, on='customer_id', how='left', indicator=True)\n",
        ")"
      ],
      "metadata": {
        "id": "lLWOd6uZj8Ci"
      },
      "execution_count": null,
      "outputs": []
    },
    {
      "cell_type": "code",
      "source": [
        "# Verificando o tamanho do Dataframe df_abt_train\n",
        "df_abt_train.shape"
      ],
      "metadata": {
        "id": "Ec8EAhPDAzXJ",
        "colab": {
          "base_uri": "https://localhost:8080/"
        },
        "outputId": "10ed81ee-0fec-46c4-a03c-9b6cefaa1296"
      },
      "execution_count": null,
      "outputs": [
        {
          "output_type": "execute_result",
          "data": {
            "text/plain": [
              "(30079, 6)"
            ]
          },
          "metadata": {},
          "execution_count": 56
        }
      ]
    },
    {
      "cell_type": "code",
      "source": [
        "# Verificando a lista de colunas\n",
        "df_abt_train.columns.to_list()"
      ],
      "metadata": {
        "colab": {
          "base_uri": "https://localhost:8080/"
        },
        "id": "47SGx28hz-9S",
        "outputId": "aea29433-40a5-4090-d386-a53902780946"
      },
      "execution_count": null,
      "outputs": [
        {
          "output_type": "execute_result",
          "data": {
            "text/plain": [
              "['data_ref',\n",
              " 'customer_id',\n",
              " 'receita_1m',\n",
              " 'qtd_pedidos_1m',\n",
              " 'recencia',\n",
              " '_merge']"
            ]
          },
          "metadata": {},
          "execution_count": 57
        }
      ]
    },
    {
      "cell_type": "code",
      "source": [
        "df_abt_train = (\n",
        "    df_abt_train\n",
        "      # Criando a feature churn_next_month a  partir da feature _merge, \n",
        "      # clientes que irão dar churn no próximo mês, churm - que não vão comprar no próximo mês \n",
        "      # A feature churn_next_month irá substituir a feature _merge por valores\n",
        "      # left_only = 1 --> churn\n",
        "      # onlu = 0      --> não churn\n",
        "      .assign(churn_next_month = lambda df: np.where(df['_merge']=='left_only', 1, 0))\n",
        "      # Apaga a coluna _merge\n",
        "      .drop('_merge', axis=1)\n",
        ")"
      ],
      "metadata": {
        "id": "3fa3Rp_L2E9o"
      },
      "execution_count": null,
      "outputs": []
    },
    {
      "cell_type": "code",
      "source": [
        "# Verificando o tamanho do Dataframe df_abt_train\n",
        "df_abt_train.shape"
      ],
      "metadata": {
        "colab": {
          "base_uri": "https://localhost:8080/"
        },
        "id": "k1rQjTuD6CMq",
        "outputId": "1e5805e9-afb2-44d1-fead-e47960c7226b"
      },
      "execution_count": null,
      "outputs": [
        {
          "output_type": "execute_result",
          "data": {
            "text/plain": [
              "(30079, 6)"
            ]
          },
          "metadata": {},
          "execution_count": 59
        }
      ]
    },
    {
      "cell_type": "code",
      "source": [
        "# Verificando a lista de colunas\n",
        "df_abt_train.columns.to_list()"
      ],
      "metadata": {
        "colab": {
          "base_uri": "https://localhost:8080/"
        },
        "id": "5rZRJmrU6ESL",
        "outputId": "8cbc3070-cc37-4025-960e-62f401e9f83b"
      },
      "execution_count": null,
      "outputs": [
        {
          "output_type": "execute_result",
          "data": {
            "text/plain": [
              "['data_ref',\n",
              " 'customer_id',\n",
              " 'receita_1m',\n",
              " 'qtd_pedidos_1m',\n",
              " 'recencia',\n",
              " 'churn_next_month']"
            ]
          },
          "metadata": {},
          "execution_count": 60
        }
      ]
    },
    {
      "cell_type": "code",
      "source": [
        "# Verificando a distribuição da feature churn_next_month\n",
        "df_abt_train['churn_next_month'].value_counts(normalize=True)"
      ],
      "metadata": {
        "colab": {
          "base_uri": "https://localhost:8080/"
        },
        "id": "dtCWSSOa6GCi",
        "outputId": "a2abbb58-fcb9-4245-f8ba-de9c60349f83"
      },
      "execution_count": null,
      "outputs": [
        {
          "output_type": "execute_result",
          "data": {
            "text/plain": [
              "0    0.613086\n",
              "1    0.386914\n",
              "Name: churn_next_month, dtype: float64"
            ]
          },
          "metadata": {},
          "execution_count": 61
        }
      ]
    },
    {
      "cell_type": "code",
      "source": [
        "# Verificando o Dataframe df_abt_train\n",
        "df_abt_train.shape"
      ],
      "metadata": {
        "colab": {
          "base_uri": "https://localhost:8080/"
        },
        "id": "n61_RKOH6pxz",
        "outputId": "7cc37a41-e38b-494f-9f9d-5cdf795b4282"
      },
      "execution_count": null,
      "outputs": [
        {
          "output_type": "execute_result",
          "data": {
            "text/plain": [
              "(30079, 6)"
            ]
          },
          "metadata": {},
          "execution_count": 62
        }
      ]
    },
    {
      "cell_type": "markdown",
      "source": [
        "## Criando a ABT Out of Time avançando 1 mês\n",
        "\n",
        "2019-07-01 (inclusivo) até 2019-08-01 (exclusivo)"
      ],
      "metadata": {
        "id": "_tuqocwN7qJH"
      }
    },
    {
      "cell_type": "markdown",
      "source": [
        "## Criando a Feature e a Target Out of Time"
      ],
      "metadata": {
        "id": "fvcpIq3e85Ip"
      }
    },
    {
      "cell_type": "code",
      "source": [
        "# Criando o Dataframe df_features_train 2019-07-01 (inclusivo) até 2019-08-01 (exclusivo)\n",
        "df_features_oot = df_orders.query(\"order_timestamp_local >= '2019-07-01' & order_timestamp_local < '2019-08-01'\")"
      ],
      "metadata": {
        "id": "mFW86GVk7CrR"
      },
      "execution_count": null,
      "outputs": []
    },
    {
      "cell_type": "code",
      "source": [
        "# Verificando o tamanho do Dataframe df_features_train\n",
        "df_features_oot.shape"
      ],
      "metadata": {
        "colab": {
          "base_uri": "https://localhost:8080/"
        },
        "id": "QvgIMlZQ8tDh",
        "outputId": "b1a322e4-c7b8-45bd-bbcf-f7f176d55eb8"
      },
      "execution_count": null,
      "outputs": [
        {
          "output_type": "execute_result",
          "data": {
            "text/plain": [
              "(69945, 43)"
            ]
          },
          "metadata": {},
          "execution_count": 64
        }
      ]
    },
    {
      "cell_type": "code",
      "source": [
        "# Criando o Dataframe df_target_train 2019-07-01 (inclusivo) até 2019-08-01 (exclusivo)\n",
        "df_target_oot = (\n",
        "  df_orders\n",
        "    # Selecionando o periodo de  2019-07-01 (inclusivo) até 2019-08-01 (exclusivo)\n",
        "    .query(\"order_timestamp_local >= '2019-08-01' & order_timestamp_local < '2019-09-01'\")\n",
        "    # Selecionando somente a features customer_id, que será a target\n",
        "    .filter(['customer_id'])\n",
        "    # Apagando as features duplicadas\n",
        "    .drop_duplicates()\n",
        ")"
      ],
      "metadata": {
        "id": "R7Vb7iD98X96"
      },
      "execution_count": null,
      "outputs": []
    },
    {
      "cell_type": "code",
      "source": [
        "# Verificando o tamanho do Dataframe df_features_train\n",
        "df_target_oot.shape"
      ],
      "metadata": {
        "colab": {
          "base_uri": "https://localhost:8080/"
        },
        "id": "enB1DCnq8v1A",
        "outputId": "ff12be4e-3a38-4797-e815-bda9df4d94e8"
      },
      "execution_count": null,
      "outputs": [
        {
          "output_type": "execute_result",
          "data": {
            "text/plain": [
              "(17319, 1)"
            ]
          },
          "metadata": {},
          "execution_count": 66
        }
      ]
    },
    {
      "cell_type": "markdown",
      "source": [
        "## Criando a ABT Out of Time"
      ],
      "metadata": {
        "id": "DXjhXEVn9HO3"
      }
    },
    {
      "cell_type": "code",
      "source": [
        "# Criando o Dataframe df_abt_train\n",
        "df_abt_oot = (\n",
        "    df_features_oot\n",
        "    # Agrupando por customer_id, unindo as features com o mesmo valor\n",
        "    .groupby('customer_id')\n",
        "    # Criando as features fazendo a somatória das mesmas, somando os valores\n",
        "    .agg(\n",
        "      # Criando a feature receita_1m\n",
        "      receita_1m=('paid_amount', 'sum'),\n",
        "      # Criando a feature qtd_pedidos_1m\n",
        "      qtd_pedidos_1m=('order_id', 'nunique'),\n",
        "      # Criando a feature data_ultima_venda\n",
        "      data_ultima_venda=('order_timestamp_local', 'max')\n",
        "    )\n",
        "    # Resetando o index\n",
        "    .reset_index()\n",
        ")"
      ],
      "metadata": {
        "id": "Xllzcgyh8w3C"
      },
      "execution_count": null,
      "outputs": []
    },
    {
      "cell_type": "code",
      "source": [
        "# Verificando o tamanho do Dataframe df_features_train\n",
        "df_abt_oot.shape"
      ],
      "metadata": {
        "colab": {
          "base_uri": "https://localhost:8080/"
        },
        "id": "g6MJI20a9fP6",
        "outputId": "15c57f61-78e2-48cb-ee6b-5ed920432324"
      },
      "execution_count": null,
      "outputs": [
        {
          "output_type": "execute_result",
          "data": {
            "text/plain": [
              "(18441, 4)"
            ]
          },
          "metadata": {},
          "execution_count": 68
        }
      ]
    },
    {
      "cell_type": "code",
      "source": [
        "# Alerando o Dataframe df_abt_train\n",
        "df_abt_oot = (\n",
        "    df_abt_oot\n",
        "      # Alterando a feature data_ultima_venda para o tipo datetime\n",
        "      .assign(data_ultima_venda = pd.to_datetime(df_abt_oot['data_ultima_venda'], utc=True))\n",
        "      # Alterando a feature data_ref para o tipo datetime\n",
        "      .assign(data_ref = pd.to_datetime('2019-08-01', utc=True))\n",
        "      # Criando a feature recencia da subtração entre as features df['data_ref'] - df['data_ultima_venda'], df é só um nome simbólico\n",
        "      .assign(recencia = lambda df: (df['data_ref'] - df['data_ultima_venda']).dt.days)\n",
        "      # Filtrando as features para o Dataframe\n",
        "      .filter([\n",
        "          'data_ref', \n",
        "          'customer_id', \n",
        "          'receita_1m', \n",
        "          'qtd_pedidos_1m', \n",
        "          'recencia'])\n",
        ")"
      ],
      "metadata": {
        "id": "ze4C_xwR9k5j"
      },
      "execution_count": null,
      "outputs": []
    },
    {
      "cell_type": "code",
      "source": [
        "# Verificando o tamanho do Dataframe df_features_train\n",
        "df_abt_oot.shape"
      ],
      "metadata": {
        "colab": {
          "base_uri": "https://localhost:8080/"
        },
        "id": "iphFeKJV-FPD",
        "outputId": "d347df73-bfe0-449a-d54c-bd18b77b6013"
      },
      "execution_count": null,
      "outputs": [
        {
          "output_type": "execute_result",
          "data": {
            "text/plain": [
              "(18441, 5)"
            ]
          },
          "metadata": {},
          "execution_count": 70
        }
      ]
    },
    {
      "cell_type": "code",
      "source": [
        "# Verificando a lista de colunas\n",
        "df_abt_oot.columns.to_list()"
      ],
      "metadata": {
        "colab": {
          "base_uri": "https://localhost:8080/"
        },
        "id": "ZxjqhNep-HHp",
        "outputId": "e48ce4a5-0cd0-457d-be2c-2fd720284187"
      },
      "execution_count": null,
      "outputs": [
        {
          "output_type": "execute_result",
          "data": {
            "text/plain": [
              "['data_ref', 'customer_id', 'receita_1m', 'qtd_pedidos_1m', 'recencia']"
            ]
          },
          "metadata": {},
          "execution_count": 71
        }
      ]
    },
    {
      "cell_type": "code",
      "source": [
        "# Fazendo o merge entre os Dataframes df_abt_train e o df_target_train\n",
        "df_abt_oot = (\n",
        "    df_abt_oot\n",
        "    # Unindo os Dataframes df_abt_train e df_target_train que contenham a feature customer_id em comum\n",
        "    # criando a feature _merge, que por sua vez irá conte left_only e only\n",
        "    .merge(df_target_oot, on='customer_id', how='left', indicator=True)\n",
        ")"
      ],
      "metadata": {
        "id": "v2qgtuy0-RY4"
      },
      "execution_count": null,
      "outputs": []
    },
    {
      "cell_type": "code",
      "source": [
        "# Verificando o tamanho do Dataframe df_features_train\n",
        "df_abt_oot.shape"
      ],
      "metadata": {
        "colab": {
          "base_uri": "https://localhost:8080/"
        },
        "id": "TwSRy6rQ_J3P",
        "outputId": "5d9da852-0fe5-403c-93b9-4ddec8040c21"
      },
      "execution_count": null,
      "outputs": [
        {
          "output_type": "execute_result",
          "data": {
            "text/plain": [
              "(18441, 6)"
            ]
          },
          "metadata": {},
          "execution_count": 73
        }
      ]
    },
    {
      "cell_type": "code",
      "source": [
        "# Verificando a lista de colunas\n",
        "df_abt_oot.columns.to_list()"
      ],
      "metadata": {
        "colab": {
          "base_uri": "https://localhost:8080/"
        },
        "id": "uCqWBAm3_GkL",
        "outputId": "2611af0c-7a94-4a8b-c6fd-a728d7067e0e"
      },
      "execution_count": null,
      "outputs": [
        {
          "output_type": "execute_result",
          "data": {
            "text/plain": [
              "['data_ref',\n",
              " 'customer_id',\n",
              " 'receita_1m',\n",
              " 'qtd_pedidos_1m',\n",
              " 'recencia',\n",
              " '_merge']"
            ]
          },
          "metadata": {},
          "execution_count": 74
        }
      ]
    },
    {
      "cell_type": "code",
      "source": [
        "df_abt_oot = (\n",
        "    df_abt_oot\n",
        "      # Criando a feature churn_next_month a  partir da feature _merge, \n",
        "      # clientes que irão dar churn no próximo mês, churm - que não vão comprar no próximo mês \n",
        "      # A feature churn_next_month irá substituir a feature _merge por valores\n",
        "      # left_only = 1 --> churn\n",
        "      # onlu = 0      --> não churn\n",
        "      .assign(churn_next_month = lambda df: np.where(df['_merge']=='left_only', 1, 0))\n",
        "      # Apaga a coluna _merge\n",
        "      .drop('_merge', axis=1)\n",
        ")"
      ],
      "metadata": {
        "id": "HQaA3ZGJ_IER"
      },
      "execution_count": null,
      "outputs": []
    },
    {
      "cell_type": "code",
      "source": [
        "# Verificando o tamanho do Dataframe df_features_train\n",
        "df_abt_oot.shape"
      ],
      "metadata": {
        "colab": {
          "base_uri": "https://localhost:8080/"
        },
        "id": "KcyvjmhF_o6i",
        "outputId": "6df120e4-474c-4ac5-dc12-6d796325687f"
      },
      "execution_count": null,
      "outputs": [
        {
          "output_type": "execute_result",
          "data": {
            "text/plain": [
              "(18441, 6)"
            ]
          },
          "metadata": {},
          "execution_count": 76
        }
      ]
    },
    {
      "cell_type": "code",
      "source": [
        "# Verificando a lista de colunas\n",
        "df_abt_oot.columns.to_list()"
      ],
      "metadata": {
        "colab": {
          "base_uri": "https://localhost:8080/"
        },
        "id": "umMFQ3Ce_5p2",
        "outputId": "3dc4319a-a517-415e-f674-f5fba19bcb3c"
      },
      "execution_count": null,
      "outputs": [
        {
          "output_type": "execute_result",
          "data": {
            "text/plain": [
              "['data_ref',\n",
              " 'customer_id',\n",
              " 'receita_1m',\n",
              " 'qtd_pedidos_1m',\n",
              " 'recencia',\n",
              " 'churn_next_month']"
            ]
          },
          "metadata": {},
          "execution_count": 77
        }
      ]
    },
    {
      "cell_type": "code",
      "source": [
        "# Verificando a distribuição da feature churn_next_month\n",
        "df_abt_oot['churn_next_month'].value_counts(normalize=True)"
      ],
      "metadata": {
        "colab": {
          "base_uri": "https://localhost:8080/"
        },
        "id": "PLXVxCjg_7LS",
        "outputId": "c94bfcfb-71ee-4549-eb0d-a877e9b77ad7"
      },
      "execution_count": null,
      "outputs": [
        {
          "output_type": "execute_result",
          "data": {
            "text/plain": [
              "0    0.759558\n",
              "1    0.240442\n",
              "Name: churn_next_month, dtype: float64"
            ]
          },
          "metadata": {},
          "execution_count": 78
        }
      ]
    },
    {
      "cell_type": "code",
      "source": [
        "df_abt_oot.shape"
      ],
      "metadata": {
        "colab": {
          "base_uri": "https://localhost:8080/"
        },
        "id": "Z7P9pxdKAKcK",
        "outputId": "759392a4-b8e3-4cc6-c698-33b63440ec4a"
      },
      "execution_count": null,
      "outputs": [
        {
          "output_type": "execute_result",
          "data": {
            "text/plain": [
              "(18441, 6)"
            ]
          },
          "metadata": {},
          "execution_count": 79
        }
      ]
    },
    {
      "cell_type": "markdown",
      "source": [
        "## Estudo dos valores faltantes entre os Dataframes df_abt_train e df_abt_oot"
      ],
      "metadata": {
        "id": "DvwLNYb5AciA"
      }
    },
    {
      "cell_type": "code",
      "source": [
        "# Verificando os valore nulos do Dataframe df_abt_train\n",
        "df_abt_train.isnull().sum()"
      ],
      "metadata": {
        "colab": {
          "base_uri": "https://localhost:8080/"
        },
        "id": "27ln5uxEANgo",
        "outputId": "ab20813d-bae2-435f-f021-375b368fdaab"
      },
      "execution_count": null,
      "outputs": [
        {
          "output_type": "execute_result",
          "data": {
            "text/plain": [
              "data_ref            0\n",
              "customer_id         0\n",
              "receita_1m          0\n",
              "qtd_pedidos_1m      0\n",
              "recencia            0\n",
              "churn_next_month    0\n",
              "dtype: int64"
            ]
          },
          "metadata": {},
          "execution_count": 80
        }
      ]
    },
    {
      "cell_type": "code",
      "source": [
        "# Verificando os valore nulos do Dataframe df_abt_oot\n",
        "df_abt_oot.isnull().sum()"
      ],
      "metadata": {
        "colab": {
          "base_uri": "https://localhost:8080/"
        },
        "id": "-TMaw8RfAnhZ",
        "outputId": "bd9a55e0-d585-4966-bd56-a42b8bf1eca2"
      },
      "execution_count": null,
      "outputs": [
        {
          "output_type": "execute_result",
          "data": {
            "text/plain": [
              "data_ref            0\n",
              "customer_id         0\n",
              "receita_1m          0\n",
              "qtd_pedidos_1m      0\n",
              "recencia            0\n",
              "churn_next_month    0\n",
              "dtype: int64"
            ]
          },
          "metadata": {},
          "execution_count": 81
        }
      ]
    }
  ]
}